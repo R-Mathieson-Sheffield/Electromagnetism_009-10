{
 "cells": [
  {
   "cell_type": "markdown",
   "id": "4a4642d9",
   "metadata": {},
   "source": [
    "# Unit 2: Electricity and Magnetism\n",
    "\n",
    "![Lightning](Figures/Lightning.jpeg)\n",
    "\n",
    "```{admonition} Dr Ross Mathieson (Non A-Level Group)\n",
    "\n",
    "R.A.Mathieson@Sheffield.ac.uk | Office Hours: Mondays 13:30 - 14:00\n",
    "\n",
    "```\n",
    "\n",
    "```{admonition} Dr Matt Mears (A-Level Group)\n",
    "M.Mears@Sheffield.ac.uk | Office Hours: TBC\n",
    "```\n",
    "\n",
    "```{Warning}\n",
    "Historically students find this the most difficult of the Physics units in the foundation year. These notes are provided to help supliment your lectures and should act as a useful tool for your understanding and revision. \n",
    "\n",
    "**These notes contain worked solutions to example problems.** Ensure you try to answer the questions before looking at the solutions. Research has shown that when students simply look at the solutions they get a false sense of understanding e.g \"Yes, that is what I would have done.\", but when tested are unable to perform as they haven't gone through the process of actually learning the steps to answering the questions themselves! \n",
    "\n",
    "**Practise, Practise, Practise!** This is the most effective way to boost understanding in Physics and Maths.\n",
    "```\n",
    "\n",
    "---\n",
    "## Unit Information\n",
    "\n",
    "This unit is designed to give you an introduction to electrcity and magnetism. The unit itself comprises three different topics which will be covered over the course of 13 lectures. The break down of the unit is as follows:\n",
    "\n",
    "| Topic | Lecture | Subject |\n",
    "|---|---|---|\n",
    "|Circuit Theory |1 | Charge, Current, Potential Difference and Resistance|\n",
    "||2| Current-Voltage Characteristics, Resistors in Series and Parallel|\n",
    "||3|Resistivity, Conductivity and Superconductivity|\n",
    "||4|Electrical Energy and Power|\n",
    "||5|Electromotive Force and Internal Resistance|\n",
    "||6|Kirchhoff's Rules|\n",
    "|---|---|---|\n",
    "|Electric Fields|7|Electric Fields and Forces|\n",
    "||8|Electric Potential and Work Done|\n",
    "||9|Capacitance and Capacitors|\n",
    "||9|Charging and Discharging Capacitors|\n",
    "|---|---|---|\n",
    "|Magnetism|11|Magnetic Fields, Charged Particles in Magnetic and Electric Fields|\n",
    "||12|Electromagnetic Induction and Induction Laws|\n",
    "||13|Magnetic Fields, Charged Particles in Magnetic and Electric Fields|"
   ]
  },
  {
   "cell_type": "code",
   "execution_count": null,
   "id": "646e0f9a",
   "metadata": {},
   "outputs": [],
   "source": []
  }
 ],
 "metadata": {
  "kernelspec": {
   "display_name": "Python 3",
   "language": "python",
   "name": "python3"
  },
  "language_info": {
   "codemirror_mode": {
    "name": "ipython",
    "version": 3
   },
   "file_extension": ".py",
   "mimetype": "text/x-python",
   "name": "python",
   "nbconvert_exporter": "python",
   "pygments_lexer": "ipython3",
   "version": "3.7.4"
  }
 },
 "nbformat": 4,
 "nbformat_minor": 5
}
