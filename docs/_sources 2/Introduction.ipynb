{
 "cells": [
  {
   "cell_type": "markdown",
   "id": "061f30d4",
   "metadata": {},
   "source": [
    "# Unit 2: Electricity and Magnetism\n",
    "\n",
    "![Lightning](Figures/Lightning.jpeg)\n",
    "\n",
    "```{admonition} Dr Ross Mathieson (Non A-Level Group)\n",
    "\n",
    "R.A.Mathieson@Sheffield.ac.uk | Office Hours: Thursday 13:00 - 14:00\n",
    "\n",
    "```\n",
    "\n",
    "```{admonition} Dr Bianca Sala (A-Level Group)\n",
    "B.Sala@Sheffield.ac.uk | Office Hours: Monday 13:00 - 14:00\n",
    "```\n",
    "\n",
    "```{Warning}\n",
    "Historically students find this the most difficult of the Physics units in the foundation year. These notes are provided to help supliment your lectures and should act as a useful tool for your understanding and revision. \n",
    "\n",
    "**These notes contain worked solutions to example problems.** These problems may be identical to those from the lectures, otherwise the same bar changes in values, or new. It is worth attempting the questions even if you recognise them from the lectures as it will help consolidate your learning. \n",
    "\n",
    "**Ensure you try to answer the questions before looking at the solutions**. Research has shown that when students simply look at the solutions they get a false sense of understanding e.g \"Yes, that is what I would have done.\", but when tested are unable to perform as they haven't gone through the process of actually learning the steps to answering the questions themselves! \n",
    "\n",
    "**Practise, Practise, Practise!** This is the most effective way to boost understanding in Physics and Maths.\n",
    "```\n",
    "\n",
    "---\n",
    "## Unit Information\n",
    "\n",
    "This unit is designed to give you an introduction to electrcity and magnetism. The unit itself comprises three different topics which will be covered over the course of 13 lectures. The break down of the unit is as follows:\n",
    "\n",
    "| Topic | Lecture | Subject |\n",
    "|---|---|---|\n",
    "|Circuit Theory |1 | Charge, Current, Potential Difference and Resistance|\n",
    "||2| Current-Voltage Characteristics, Resistors in Series and Parallel|\n",
    "||3|Resistivity, Conductivity and Superconductivity|\n",
    "||4|Electrical Energy and Power|\n",
    "||5|Electromotive Force and Internal Resistance|\n",
    "||6|Kirchhoff's Rules|\n",
    "|---|---|---|\n",
    "|Electric Fields|7|Electric Fields and Forces|\n",
    "||8|Electric Potential and Work Done|\n",
    "||9|Capacitance and Capacitors|\n",
    "||9|Charging and Discharging Capacitors|\n",
    "|---|---|---|\n",
    "|Magnetism|11|Magnetic Fields, Charged Particles in Magnetic and Electric Fields|\n",
    "||12|Electromagnetic Induction and Induction Laws|\n",
    "||13|Magnetic Fields, Charged Particles in Magnetic and Electric Fields|"
   ]
  },
  {
   "cell_type": "code",
   "execution_count": null,
   "id": "2c176c02",
   "metadata": {},
   "outputs": [],
   "source": []
  }
 ],
 "metadata": {
  "kernelspec": {
   "display_name": "Python 3",
   "language": "python",
   "name": "python3"
  },
  "language_info": {
   "codemirror_mode": {
    "name": "ipython",
    "version": 3
   },
   "file_extension": ".py",
   "mimetype": "text/x-python",
   "name": "python",
   "nbconvert_exporter": "python",
   "pygments_lexer": "ipython3",
   "version": "3.7.4"
  }
 },
 "nbformat": 4,
 "nbformat_minor": 5
}
